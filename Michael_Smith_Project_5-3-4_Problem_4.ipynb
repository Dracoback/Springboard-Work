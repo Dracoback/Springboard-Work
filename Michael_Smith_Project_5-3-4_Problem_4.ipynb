{
 "cells": [
  {
   "cell_type": "markdown",
   "metadata": {},
   "source": [
    "## Problem 4\n",
    "Using data in 'data/mondial_database.xml', the examples above, and refering to https://docs.python.org/2.7/library/xml.etree.elementtree.html, \n",
    "find the name and country of a) longest river, b) largest lake and c) airport at highest elevation."
   ]
  },
  {
   "cell_type": "code",
   "execution_count": 3,
   "metadata": {
    "collapsed": true
   },
   "outputs": [],
   "source": [
    "from xml.etree import ElementTree as ET\n",
    "import pandas as pd"
   ]
  },
  {
   "cell_type": "code",
   "execution_count": 23,
   "metadata": {},
   "outputs": [
    {
     "data": {
      "text/html": [
       "<div>\n",
       "<style>\n",
       "    .dataframe thead tr:only-child th {\n",
       "        text-align: right;\n",
       "    }\n",
       "\n",
       "    .dataframe thead th {\n",
       "        text-align: left;\n",
       "    }\n",
       "\n",
       "    .dataframe tbody tr th {\n",
       "        vertical-align: top;\n",
       "    }\n",
       "</style>\n",
       "<table border=\"1\" class=\"dataframe\">\n",
       "  <thead>\n",
       "    <tr style=\"text-align: right;\">\n",
       "      <th></th>\n",
       "      <th>Country</th>\n",
       "      <th>Code</th>\n",
       "    </tr>\n",
       "  </thead>\n",
       "  <tbody>\n",
       "    <tr>\n",
       "      <th>141</th>\n",
       "      <td>Colombia</td>\n",
       "      <td>CO</td>\n",
       "    </tr>\n",
       "    <tr>\n",
       "      <th>176</th>\n",
       "      <td>Brazil</td>\n",
       "      <td>BR</td>\n",
       "    </tr>\n",
       "    <tr>\n",
       "      <th>180</th>\n",
       "      <td>Peru</td>\n",
       "      <td>PE</td>\n",
       "    </tr>\n",
       "  </tbody>\n",
       "</table>\n",
       "</div>"
      ],
      "text/plain": [
       "      Country Code\n",
       "141  Colombia   CO\n",
       "176    Brazil   BR\n",
       "180      Peru   PE"
      ]
     },
     "execution_count": 23,
     "metadata": {},
     "output_type": "execute_result"
    }
   ],
   "source": [
    "# Get data.\n",
    "document_tree = ET.parse(\"data/mondial_database.xml\",)\n",
    "document_root = document_tree.getroot()\n",
    "\n",
    "# Make a data frame for the country codes. This will be used throughout each part of this problem.\n",
    "df_country_codes = pd.DataFrame(columns=[\"Country\", \"Code\"])\n",
    "for elem in document_tree.iter(tag='country'):\n",
    "    df_country_codes = df_country_codes.append(\n",
    "                {\n",
    "                    \"Country\": elem.find(\"name\").text,\n",
    "                    \"Code\": elem.attrib[\"car_code\"]\n",
    "                }, ignore_index=True)"
   ]
  },
  {
   "cell_type": "markdown",
   "metadata": {},
   "source": [
    "## a) The longest river."
   ]
  },
  {
   "cell_type": "code",
   "execution_count": 20,
   "metadata": {},
   "outputs": [
    {
     "data": {
      "text/html": [
       "<div>\n",
       "<style>\n",
       "    .dataframe thead tr:only-child th {\n",
       "        text-align: right;\n",
       "    }\n",
       "\n",
       "    .dataframe thead th {\n",
       "        text-align: left;\n",
       "    }\n",
       "\n",
       "    .dataframe tbody tr th {\n",
       "        vertical-align: top;\n",
       "    }\n",
       "</style>\n",
       "<table border=\"1\" class=\"dataframe\">\n",
       "  <thead>\n",
       "    <tr style=\"text-align: right;\">\n",
       "      <th></th>\n",
       "      <th>River</th>\n",
       "      <th>Length</th>\n",
       "      <th>Country</th>\n",
       "    </tr>\n",
       "  </thead>\n",
       "  <tbody>\n",
       "    <tr>\n",
       "      <th>174</th>\n",
       "      <td>Amazonas</td>\n",
       "      <td>6448.0</td>\n",
       "      <td>CO BR PE</td>\n",
       "    </tr>\n",
       "  </tbody>\n",
       "</table>\n",
       "</div>"
      ],
      "text/plain": [
       "        River  Length   Country\n",
       "174  Amazonas  6448.0  CO BR PE"
      ]
     },
     "execution_count": 20,
     "metadata": {},
     "output_type": "execute_result"
    }
   ],
   "source": [
    "# Data frame for the rivers, their length, and the codes of any countries they pass through.\n",
    "df_river = pd.DataFrame(columns=[\"River\", \"Length\", \"Country\"])\n",
    "\n",
    "# Use an iterator to search the tree and populate our data frame.\n",
    "for elem in document_tree.iterfind('river'):\n",
    "    if elem.find(\"length\") is None:\n",
    "                continue;\n",
    "    df_river = df_river.append(\n",
    "                {\n",
    "                    \"River\": elem.find(\"name\").text,\n",
    "                    \"Length\": elem.find(\"length\").text,\n",
    "                    \"Country\": elem.attrib[\"country\"]\n",
    "                }, ignore_index=True)\n",
    "\n",
    "# Make the river lengths numeric so they can be sorted, then sort them.\n",
    "df_river[\"Length\"] = pd.to_numeric(df_river[\"Length\"])\n",
    "df_river.sort_values(\"Length\", ascending = False).head(1)"
   ]
  },
  {
   "cell_type": "code",
   "execution_count": null,
   "metadata": {
    "collapsed": true
   },
   "outputs": [],
   "source": [
    "# Determine which countries correspond to those codes.\n",
    "df_country_codes[(df_country_codes.Code == \"CO\") | (df_country_codes.Code == \"BR\") | (df_country_codes.Code == \"PE\")]"
   ]
  },
  {
   "cell_type": "markdown",
   "metadata": {},
   "source": [
    "## Thus, the longest river is the Amazonas River that runs through the countries of Colombia, Brazil, and Peru."
   ]
  },
  {
   "cell_type": "markdown",
   "metadata": {},
   "source": [
    "## b) The largest lake."
   ]
  },
  {
   "cell_type": "code",
   "execution_count": 24,
   "metadata": {},
   "outputs": [
    {
     "data": {
      "text/html": [
       "<div>\n",
       "<style>\n",
       "    .dataframe thead tr:only-child th {\n",
       "        text-align: right;\n",
       "    }\n",
       "\n",
       "    .dataframe thead th {\n",
       "        text-align: left;\n",
       "    }\n",
       "\n",
       "    .dataframe tbody tr th {\n",
       "        vertical-align: top;\n",
       "    }\n",
       "</style>\n",
       "<table border=\"1\" class=\"dataframe\">\n",
       "  <thead>\n",
       "    <tr style=\"text-align: right;\">\n",
       "      <th></th>\n",
       "      <th>Lake</th>\n",
       "      <th>Area</th>\n",
       "      <th>Country</th>\n",
       "    </tr>\n",
       "  </thead>\n",
       "  <tbody>\n",
       "    <tr>\n",
       "      <th>54</th>\n",
       "      <td>Caspian Sea</td>\n",
       "      <td>386400.0</td>\n",
       "      <td>R AZ KAZ IR TM</td>\n",
       "    </tr>\n",
       "  </tbody>\n",
       "</table>\n",
       "</div>"
      ],
      "text/plain": [
       "           Lake      Area         Country\n",
       "54  Caspian Sea  386400.0  R AZ KAZ IR TM"
      ]
     },
     "execution_count": 24,
     "metadata": {},
     "output_type": "execute_result"
    }
   ],
   "source": [
    "# Data frame for the lakes, their areas, and the codes of any countries they are part of.\n",
    "df_lake = pd.DataFrame(columns=[\"Lake\", \"Area\", \"Country\"])\n",
    "\n",
    "# Use an iterator to search the tree and populate our data frame.\n",
    "for elem in document_tree.iterfind('lake'):\n",
    "    if elem.find(\"area\") is None:\n",
    "                continue;\n",
    "    df_lake = df_lake.append(\n",
    "                {\n",
    "                    \"Lake\": elem.find(\"name\").text,\n",
    "                    \"Area\": elem.find(\"area\").text,\n",
    "                    \"Country\": elem.attrib[\"country\"]\n",
    "                }, ignore_index=True)\n",
    "\n",
    "# Make the lake areas numeric so they can be sorted, then sort them.\n",
    "df_lake[\"Area\"] = pd.to_numeric(df_lake[\"Area\"])\n",
    "df_lake.sort_values(\"Area\", ascending = False).head(1)"
   ]
  },
  {
   "cell_type": "code",
   "execution_count": 25,
   "metadata": {},
   "outputs": [
    {
     "data": {
      "text/html": [
       "<div>\n",
       "<style>\n",
       "    .dataframe thead tr:only-child th {\n",
       "        text-align: right;\n",
       "    }\n",
       "\n",
       "    .dataframe thead th {\n",
       "        text-align: left;\n",
       "    }\n",
       "\n",
       "    .dataframe tbody tr th {\n",
       "        vertical-align: top;\n",
       "    }\n",
       "</style>\n",
       "<table border=\"1\" class=\"dataframe\">\n",
       "  <thead>\n",
       "    <tr style=\"text-align: right;\">\n",
       "      <th></th>\n",
       "      <th>Country</th>\n",
       "      <th>Code</th>\n",
       "    </tr>\n",
       "  </thead>\n",
       "  <tbody>\n",
       "    <tr>\n",
       "      <th>23</th>\n",
       "      <td>Russia</td>\n",
       "      <td>R</td>\n",
       "    </tr>\n",
       "    <tr>\n",
       "      <th>56</th>\n",
       "      <td>Iran</td>\n",
       "      <td>IR</td>\n",
       "    </tr>\n",
       "    <tr>\n",
       "      <th>59</th>\n",
       "      <td>Turkmenistan</td>\n",
       "      <td>TM</td>\n",
       "    </tr>\n",
       "    <tr>\n",
       "      <th>63</th>\n",
       "      <td>Azerbaijan</td>\n",
       "      <td>AZ</td>\n",
       "    </tr>\n",
       "    <tr>\n",
       "      <th>75</th>\n",
       "      <td>Kazakhstan</td>\n",
       "      <td>KAZ</td>\n",
       "    </tr>\n",
       "  </tbody>\n",
       "</table>\n",
       "</div>"
      ],
      "text/plain": [
       "         Country Code\n",
       "23        Russia    R\n",
       "56          Iran   IR\n",
       "59  Turkmenistan   TM\n",
       "63    Azerbaijan   AZ\n",
       "75    Kazakhstan  KAZ"
      ]
     },
     "execution_count": 25,
     "metadata": {},
     "output_type": "execute_result"
    }
   ],
   "source": [
    "# Determine which countries correspond to those codes.\n",
    "df_country_codes[(df_country_codes.Code == \"R\") | (df_country_codes.Code == \"AZ\") | (df_country_codes.Code == \"KAZ\") | (df_country_codes.Code == \"IR\") | (df_country_codes.Code == \"TM\")]"
   ]
  },
  {
   "cell_type": "markdown",
   "metadata": {},
   "source": [
    "## Therefore, the largest lake is the Caspian Sea, which is part of Russia, Iran, Turkmenistan, Azerbaijan, and Kazakhstan."
   ]
  },
  {
   "cell_type": "markdown",
   "metadata": {},
   "source": [
    "## c) The airport at the highest elevation."
   ]
  },
  {
   "cell_type": "code",
   "execution_count": 26,
   "metadata": {},
   "outputs": [
    {
     "data": {
      "text/html": [
       "<div>\n",
       "<style>\n",
       "    .dataframe thead tr:only-child th {\n",
       "        text-align: right;\n",
       "    }\n",
       "\n",
       "    .dataframe thead th {\n",
       "        text-align: left;\n",
       "    }\n",
       "\n",
       "    .dataframe tbody tr th {\n",
       "        vertical-align: top;\n",
       "    }\n",
       "</style>\n",
       "<table border=\"1\" class=\"dataframe\">\n",
       "  <thead>\n",
       "    <tr style=\"text-align: right;\">\n",
       "      <th></th>\n",
       "      <th>Airport</th>\n",
       "      <th>Elevation</th>\n",
       "      <th>Country</th>\n",
       "    </tr>\n",
       "  </thead>\n",
       "  <tbody>\n",
       "    <tr>\n",
       "      <th>80</th>\n",
       "      <td>El Alto Intl</td>\n",
       "      <td>4063.0</td>\n",
       "      <td>BOL</td>\n",
       "    </tr>\n",
       "  </tbody>\n",
       "</table>\n",
       "</div>"
      ],
      "text/plain": [
       "         Airport  Elevation Country\n",
       "80  El Alto Intl     4063.0     BOL"
      ]
     },
     "execution_count": 26,
     "metadata": {},
     "output_type": "execute_result"
    }
   ],
   "source": [
    "# Data frame for the airports, their elevations, and the codes of any countries they pass through.\n",
    "df_airport = pd.DataFrame(columns=[\"Airport\", \"Elevation\", \"Country\"])\n",
    "\n",
    "# Use an iterator to search the tree and populate our data frame.\n",
    "for elem in document_tree.iterfind('airport'):\n",
    "    if elem.find(\"elevation\") is None:\n",
    "                continue;\n",
    "    df_airport = df_airport.append(\n",
    "                {\n",
    "                    \"Airport\": elem.find(\"name\").text,\n",
    "                    \"Elevation\": elem.find(\"elevation\").text,\n",
    "                    \"Country\": elem.attrib[\"country\"]\n",
    "                }, ignore_index=True)\n",
    "\n",
    "# Make the airport elevations numeric so they can be sorted, then sort them.\n",
    "df_airport[\"Elevation\"] = pd.to_numeric(df_airport[\"Elevation\"])\n",
    "df_airport.sort_values(\"Elevation\", ascending = False).head(1)"
   ]
  },
  {
   "cell_type": "code",
   "execution_count": 27,
   "metadata": {},
   "outputs": [
    {
     "data": {
      "text/html": [
       "<div>\n",
       "<style>\n",
       "    .dataframe thead tr:only-child th {\n",
       "        text-align: right;\n",
       "    }\n",
       "\n",
       "    .dataframe thead th {\n",
       "        text-align: left;\n",
       "    }\n",
       "\n",
       "    .dataframe tbody tr th {\n",
       "        vertical-align: top;\n",
       "    }\n",
       "</style>\n",
       "<table border=\"1\" class=\"dataframe\">\n",
       "  <thead>\n",
       "    <tr style=\"text-align: right;\">\n",
       "      <th></th>\n",
       "      <th>Country</th>\n",
       "      <th>Code</th>\n",
       "    </tr>\n",
       "  </thead>\n",
       "  <tbody>\n",
       "    <tr>\n",
       "      <th>175</th>\n",
       "      <td>Bolivia</td>\n",
       "      <td>BOL</td>\n",
       "    </tr>\n",
       "  </tbody>\n",
       "</table>\n",
       "</div>"
      ],
      "text/plain": [
       "     Country Code\n",
       "175  Bolivia  BOL"
      ]
     },
     "execution_count": 27,
     "metadata": {},
     "output_type": "execute_result"
    }
   ],
   "source": [
    "# Determine which country corresponds to that code.\n",
    "df_country_codes[df_country_codes.Code == \"BOL\"]"
   ]
  },
  {
   "cell_type": "markdown",
   "metadata": {},
   "source": [
    "## The airport at the highest elevation is the El Alto International Airport in Bolivia."
   ]
  }
 ],
 "metadata": {
  "kernelspec": {
   "display_name": "Python 3",
   "language": "python",
   "name": "python3"
  },
  "language_info": {
   "codemirror_mode": {
    "name": "ipython",
    "version": 3
   },
   "file_extension": ".py",
   "mimetype": "text/x-python",
   "name": "python",
   "nbconvert_exporter": "python",
   "pygments_lexer": "ipython3",
   "version": "3.6.1"
  }
 },
 "nbformat": 4,
 "nbformat_minor": 2
}
